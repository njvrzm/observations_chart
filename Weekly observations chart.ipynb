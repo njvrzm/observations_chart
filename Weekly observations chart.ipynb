{
 "cells": [
  {
   "cell_type": "code",
   "execution_count": 1,
   "metadata": {},
   "outputs": [],
   "source": [
    "import csv\n",
    "import sys\n",
    "from collections import defaultdict"
   ]
  },
  {
   "cell_type": "code",
   "execution_count": 10,
   "metadata": {},
   "outputs": [],
   "source": [
    "def observe(filename):\n",
    "    observations = defaultdict(set)\n",
    "\n",
    "    with open(filename) as lines:\n",
    "        for row in csv.DictReader(lines):\n",
    "            # Todo: parse the date instead\n",
    "            observations[row['scientific_name']].add(int(row['Week']))\n",
    "\n",
    "    data = list(observations.items()) # [(name, weeks), ...]\n",
    "    data.sort(key = lambda pair:max(pair[1])) # sort by earliest observation\n",
    "\n",
    "    name_width = max(len(name) for name, weeks in data) + 1\n",
    "\n",
    "    for name, weeks in data:\n",
    "        xes = ''.join('X' if w in weeks else ' ' for w in range(1, 53))\n",
    "        print(\"{}|{}|\".format(name.ljust(name_width), xes))\n",
    "    "
   ]
  },
  {
   "cell_type": "code",
   "execution_count": null,
   "metadata": {},
   "outputs": [],
   "source": [
    "observe(\"/Users/rat/Code/obs/observations-55004.csv\")"
   ]
  }
 ],
 "metadata": {
  "kernelspec": {
   "display_name": "Python 3",
   "language": "python",
   "name": "python3"
  },
  "language_info": {
   "codemirror_mode": {
    "name": "ipython",
    "version": 3
   },
   "file_extension": ".py",
   "mimetype": "text/x-python",
   "name": "python",
   "nbconvert_exporter": "python",
   "pygments_lexer": "ipython3",
   "version": "3.6.3"
  }
 },
 "nbformat": 4,
 "nbformat_minor": 2
}
